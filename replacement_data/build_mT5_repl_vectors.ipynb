{
 "cells": [
  {
   "cell_type": "code",
   "execution_count": null,
   "metadata": {},
   "outputs": [],
   "source": [
    "# from transformers import T5TokenizerFast, T5EncoderModel\n",
    "from transformers import AutoTokenizer, AutoModelForSeq2SeqLM\n",
    "import torch\n",
    "import os\n",
    "import numpy as np\n",
    "from pathlib import Path\n",
    "import time\n",
    "import pandas as pd"
   ]
  },
  {
   "cell_type": "code",
   "execution_count": null,
   "metadata": {},
   "outputs": [],
   "source": [
    "def naming(full_path):\n",
    "    return full_path.split(\"/\")[-1]"
   ]
  },
  {
   "cell_type": "code",
   "execution_count": null,
   "metadata": {},
   "outputs": [],
   "source": [
    "def text2t5(data_path, local_models_at, huggface_models = [], device = \"cpu\"):\n",
    "    \n",
    "    t0 = time.time()\n",
    "    \n",
    "    data_path = Path(data_path)\n",
    "\n",
    "    if local_models_at == None:\n",
    "        models = huggface_models\n",
    "    else:\n",
    "        models_path = Path(local_models_at)\n",
    "        models = [f\"{local_models_at}/{model}\" for model in os.listdir(local_models_at)] + huggface_models\n",
    "    \n",
    "    for dwe in os.listdir(data_path):\n",
    "        for meaning in [\"ingroup\", \"outgroup\"]:\n",
    "            for rnd in [\"first_round\", \"second_round\"]:\n",
    "                isExist = os.path.exists(data_path / dwe / meaning / rnd / \"vectors\")\n",
    "                if not isExist:\n",
    "                    os.makedirs(data_path / dwe / meaning / rnd / \"vectors\")   \n",
    "                \n",
    "                replacements = pd.read_csv(data_path / dwe / meaning / rnd / \"replacements.txt\", sep = \"\\t\", index_col = 0) \n",
    "                \n",
    "                for model in models:\n",
    "                    t = time.time()\n",
    "                    path = data_path / dwe / meaning / rnd / \"vectors\" / naming(model)\n",
    "                    \n",
    "                    isExist = os.path.exists(path)\n",
    "                    if not isExist:\n",
    "                        os.makedirs(path)   \n",
    "                    print()\n",
    "                    print(f\"{dwe:<15}{meaning:<10}{rnd:<15}{naming(model)}\")\n",
    "\n",
    "                    ########################################################\n",
    "                    tokenizer = AutoTokenizer.from_pretrained(\"google/mt5-xl\", model_max_length=512)\n",
    "                    T5 = AutoModelForSeq2SeqLM.from_pretrained(\"google/mt5-xl\")\n",
    "                    \n",
    "                    T5.to(device)\n",
    "                    ########################################################\n",
    "                    vectors = []\n",
    "                    for idx, line in zip(replacements.index, replacements.iloc[:,0]):\n",
    "                        pcent = round((len(replacements.loc[:idx]) / len(replacements)) * 100, 1)\n",
    "                        print(f\"{pcent:<10}{int((time.time()-t))} s.\", end=\"\\r\")\n",
    "                        ##########################################################################\n",
    "                        encoded = tokenizer.encode_plus(line, return_tensors=\"pt\", truncation=True, max_length=512)\n",
    "                        encoded.to(device)\n",
    "\n",
    "                        with torch.no_grad():\n",
    "                            output = T5.encoder(\n",
    "                                input_ids=encoded[\"input_ids\"], \n",
    "                                attention_mask=encoded[\"attention_mask\"], \n",
    "                                return_dict=True\n",
    "                            )\n",
    "                    \n",
    "                        last_hidden = output.last_hidden_state.squeeze()\n",
    "                        vector = torch.mean(last_hidden, dim=0) # TAKE THE MEAN OF ALL INPUTS OF LAST LAYER ... see paper by Ni et al. 2021 \"Sentence-T5\"\n",
    "                        ##########################################################################\n",
    "                        as_str = \" \".join([str(value) for value in vector.tolist()])\n",
    "                        vectors.append(f\"{idx}\\t{as_str}\\n\")\n",
    "                    \n",
    "                    with open(path / \"vecs.txt\", mode = \"w\") as f:\n",
    "                        for vec in vectors:\n",
    "                            f.write(vec)\n",
    "    \n",
    "    print()\n",
    "    t = time.time()\n",
    "    print(\"Done!\", int((t-t0)/60), \"m.\", int((t-t0)%60), \"s.\")"
   ]
  },
  {
   "cell_type": "markdown",
   "metadata": {},
   "source": [
    "## Run"
   ]
  },
  {
   "cell_type": "code",
   "execution_count": null,
   "metadata": {},
   "outputs": [],
   "source": [
    "text2t5(\n",
    "    data_path = Path(\"../data/replacements/data/\"), \n",
    "    local_models_at = None, \n",
    "    huggface_models = [\"google/mt5-xl\"], \n",
    "    device = \"cuda\"\n",
    ")"
   ]
  }
 ],
 "metadata": {
  "kernelspec": {
   "display_name": "Python 3",
   "language": "python",
   "name": "python3"
  },
  "language_info": {
   "codemirror_mode": {
    "name": "ipython",
    "version": 3
   },
   "file_extension": ".py",
   "mimetype": "text/x-python",
   "name": "python",
   "nbconvert_exporter": "python",
   "pygments_lexer": "ipython3",
   "version": "3.8.5"
  }
 },
 "nbformat": 4,
 "nbformat_minor": 4
}
